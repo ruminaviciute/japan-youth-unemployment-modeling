{
 "cells": [
  {
   "cell_type": "code",
   "execution_count": 2,
   "metadata": {},
   "outputs": [],
   "source": [
    "library(zoo)\n",
    "library(ggplot2)\n",
    "library(dplyr)\n",
    "library(forecast)\n",
    "library(dynlm)\n",
    "library(urca)\n",
    "library(fUnitRoots)\n",
    "library(ggfortify)\n",
    "library(data.table)\n",
    "library(tseries)\n",
    "library(dplyr)\n",
    "library(aTSA)\n",
    "library(OECD)\n",
    "library(lmtest)\n",
    "library(readxl)\n",
    "library(vars)\n",
    "library(tsDyn)\n",
    "library(MTS)"
   ]
  },
  {
   "cell_type": "code",
   "execution_count": 3,
   "metadata": {},
   "outputs": [],
   "source": [
    "options(repr.plot.width = 20)\n",
    "options(repr.plot.height = 6)"
   ]
  },
  {
   "cell_type": "code",
   "execution_count": 4,
   "metadata": {},
   "outputs": [],
   "source": [
    "duom <-read.csv(\"duomenys.csv\", header=T)"
   ]
  },
  {
   "cell_type": "code",
   "execution_count": 5,
   "metadata": {},
   "outputs": [],
   "source": [
    "unts<- ts(duom$UN,start=c(1968,1),end=c(2018,4), frequency=4)\n",
    "\n",
    "gdpts <- ts(duom$GDP, start=c(1968,1), end=c(2018,4), frequency = 4)\n",
    "\n",
    "infts <- ts(duom$INF, start=c(1968,1),end=c(2018,4), frequency=4)\n",
    "sdiff <- diff(infts,lag = 4)\n",
    "\n",
    "untsdiff2 <- diff(unts, d = 1, lag = 4)\n",
    "untsdiff <- diff(unts, d = 1)"
   ]
  },
  {
   "cell_type": "code",
   "execution_count": 6,
   "metadata": {},
   "outputs": [],
   "source": [
    "decomp1 = stl(unts, s.window=\"periodic\")\n",
    "deseasonal_ts_unts <- seasadj(decomp1)"
   ]
  },
  {
   "cell_type": "code",
   "execution_count": 7,
   "metadata": {},
   "outputs": [],
   "source": [
    "decomp2 = stl(infts, s.window=\"periodic\")\n",
    "deseasonal_ts_inf <- seasadj(decomp2)"
   ]
  },
  {
   "cell_type": "markdown",
   "metadata": {},
   "source": [
    "___"
   ]
  },
  {
   "cell_type": "code",
   "execution_count": 8,
   "metadata": {},
   "outputs": [],
   "source": [
    "df10 <- cbind(unts, gdpts, infts)"
   ]
  },
  {
   "cell_type": "code",
   "execution_count": 9,
   "metadata": {},
   "outputs": [],
   "source": [
    "train10 <- window(df10, start =c(1968,1),end=c(2012,4))\n",
    "test10 <-window(df10, start=c(2013,1))"
   ]
  },
  {
   "cell_type": "code",
   "execution_count": 10,
   "metadata": {},
   "outputs": [
    {
     "data": {
      "text/html": [
       "<dl>\n",
       "\t<dt>$selection</dt>\n",
       "\t\t<dd><dl class=dl-horizontal>\n",
       "\t<dt>AIC(n)</dt>\n",
       "\t\t<dd>8</dd>\n",
       "\t<dt>HQ(n)</dt>\n",
       "\t\t<dd>5</dd>\n",
       "\t<dt>SC(n)</dt>\n",
       "\t\t<dd>4</dd>\n",
       "\t<dt>FPE(n)</dt>\n",
       "\t\t<dd>8</dd>\n",
       "</dl>\n",
       "</dd>\n",
       "\t<dt>$criteria</dt>\n",
       "\t\t<dd><table>\n",
       "<caption>A matrix: 4 × 13 of type dbl</caption>\n",
       "<thead>\n",
       "\t<tr><th></th><th scope=col>1</th><th scope=col>2</th><th scope=col>3</th><th scope=col>4</th><th scope=col>5</th><th scope=col>6</th><th scope=col>7</th><th scope=col>8</th><th scope=col>9</th><th scope=col>10</th><th scope=col>11</th><th scope=col>12</th><th scope=col>13</th></tr>\n",
       "</thead>\n",
       "<tbody>\n",
       "\t<tr><th scope=row>AIC(n)</th><td>-1.4315092</td><td>-2.1470922</td><td>-2.1389062</td><td>-2.49123434</td><td>-2.57026034</td><td>-2.5606912</td><td>-2.5039029</td><td>-2.69308724</td><td>-2.68084603</td><td>-2.61943515</td><td>-2.62024102</td><td>-2.62715885</td><td>-2.6595663</td></tr>\n",
       "\t<tr><th scope=row>HQ(n)</th><td>-1.3633072</td><td>-2.0106883</td><td>-1.9343004</td><td>-2.21842654</td><td>-2.22925060</td><td>-2.1514795</td><td>-2.0264892</td><td>-2.14747165</td><td>-2.06702849</td><td>-1.93741566</td><td>-1.87001958</td><td>-1.80873546</td><td>-1.7729409</td></tr>\n",
       "\t<tr><th scope=row>SC(n)</th><td>-1.2634736</td><td>-1.8110210</td><td>-1.6347995</td><td>-1.81909196</td><td>-1.73008237</td><td>-1.5524776</td><td>-1.3276537</td><td>-1.34880248</td><td>-1.16852568</td><td>-0.93907921</td><td>-0.77184948</td><td>-0.61073171</td><td>-0.4751035</td></tr>\n",
       "\t<tr><th scope=row>FPE(n)</th><td> 0.2389508</td><td> 0.1168342</td><td> 0.1178205</td><td> 0.08286935</td><td> 0.07662714</td><td> 0.0774464</td><td> 0.0820942</td><td> 0.06807969</td><td> 0.06909598</td><td> 0.07371042</td><td> 0.07394475</td><td> 0.07378897</td><td> 0.0718463</td></tr>\n",
       "</tbody>\n",
       "</table>\n",
       "</dd>\n",
       "</dl>\n"
      ],
      "text/latex": [
       "\\begin{description}\n",
       "\\item[\\$selection] \\begin{description*}\n",
       "\\item[AIC(n)] 8\n",
       "\\item[HQ(n)] 5\n",
       "\\item[SC(n)] 4\n",
       "\\item[FPE(n)] 8\n",
       "\\end{description*}\n",
       "\n",
       "\\item[\\$criteria] A matrix: 4 × 13 of type dbl\n",
       "\\begin{tabular}{r|lllllllllllll}\n",
       "  & 1 & 2 & 3 & 4 & 5 & 6 & 7 & 8 & 9 & 10 & 11 & 12 & 13\\\\\n",
       "\\hline\n",
       "\tAIC(n) & -1.4315092 & -2.1470922 & -2.1389062 & -2.49123434 & -2.57026034 & -2.5606912 & -2.5039029 & -2.69308724 & -2.68084603 & -2.61943515 & -2.62024102 & -2.62715885 & -2.6595663\\\\\n",
       "\tHQ(n) & -1.3633072 & -2.0106883 & -1.9343004 & -2.21842654 & -2.22925060 & -2.1514795 & -2.0264892 & -2.14747165 & -2.06702849 & -1.93741566 & -1.87001958 & -1.80873546 & -1.7729409\\\\\n",
       "\tSC(n) & -1.2634736 & -1.8110210 & -1.6347995 & -1.81909196 & -1.73008237 & -1.5524776 & -1.3276537 & -1.34880248 & -1.16852568 & -0.93907921 & -0.77184948 & -0.61073171 & -0.4751035\\\\\n",
       "\tFPE(n) &  0.2389508 &  0.1168342 &  0.1178205 &  0.08286935 &  0.07662714 &  0.0774464 &  0.0820942 &  0.06807969 &  0.06909598 &  0.07371042 &  0.07394475 &  0.07378897 &  0.0718463\\\\\n",
       "\\end{tabular}\n",
       "\n",
       "\\end{description}\n"
      ],
      "text/markdown": [
       "$selection\n",
       ":   AIC(n)\n",
       ":   8HQ(n)\n",
       ":   5SC(n)\n",
       ":   4FPE(n)\n",
       ":   8\n",
       "\n",
       "\n",
       "$criteria\n",
       ":   \n",
       "A matrix: 4 × 13 of type dbl\n",
       "\n",
       "| <!--/--> | 1 | 2 | 3 | 4 | 5 | 6 | 7 | 8 | 9 | 10 | 11 | 12 | 13 |\n",
       "|---|---|---|---|---|---|---|---|---|---|---|---|---|---|\n",
       "| AIC(n) | -1.4315092 | -2.1470922 | -2.1389062 | -2.49123434 | -2.57026034 | -2.5606912 | -2.5039029 | -2.69308724 | -2.68084603 | -2.61943515 | -2.62024102 | -2.62715885 | -2.6595663 |\n",
       "| HQ(n) | -1.3633072 | -2.0106883 | -1.9343004 | -2.21842654 | -2.22925060 | -2.1514795 | -2.0264892 | -2.14747165 | -2.06702849 | -1.93741566 | -1.87001958 | -1.80873546 | -1.7729409 |\n",
       "| SC(n) | -1.2634736 | -1.8110210 | -1.6347995 | -1.81909196 | -1.73008237 | -1.5524776 | -1.3276537 | -1.34880248 | -1.16852568 | -0.93907921 | -0.77184948 | -0.61073171 | -0.4751035 |\n",
       "| FPE(n) |  0.2389508 |  0.1168342 |  0.1178205 |  0.08286935 |  0.07662714 |  0.0774464 |  0.0820942 |  0.06807969 |  0.06909598 |  0.07371042 |  0.07394475 |  0.07378897 |  0.0718463 |\n",
       "\n",
       "\n",
       "\n",
       "\n"
      ],
      "text/plain": [
       "$selection\n",
       "AIC(n)  HQ(n)  SC(n) FPE(n) \n",
       "     8      5      4      8 \n",
       "\n",
       "$criteria\n",
       "                1          2          3           4           5          6\n",
       "AIC(n) -1.4315092 -2.1470922 -2.1389062 -2.49123434 -2.57026034 -2.5606912\n",
       "HQ(n)  -1.3633072 -2.0106883 -1.9343004 -2.21842654 -2.22925060 -2.1514795\n",
       "SC(n)  -1.2634736 -1.8110210 -1.6347995 -1.81909196 -1.73008237 -1.5524776\n",
       "FPE(n)  0.2389508  0.1168342  0.1178205  0.08286935  0.07662714  0.0774464\n",
       "                7           8           9          10          11          12\n",
       "AIC(n) -2.5039029 -2.69308724 -2.68084603 -2.61943515 -2.62024102 -2.62715885\n",
       "HQ(n)  -2.0264892 -2.14747165 -2.06702849 -1.93741566 -1.87001958 -1.80873546\n",
       "SC(n)  -1.3276537 -1.34880248 -1.16852568 -0.93907921 -0.77184948 -0.61073171\n",
       "FPE(n)  0.0820942  0.06807969  0.06909598  0.07371042  0.07394475  0.07378897\n",
       "               13\n",
       "AIC(n) -2.6595663\n",
       "HQ(n)  -1.7729409\n",
       "SC(n)  -0.4751035\n",
       "FPE(n)  0.0718463\n"
      ]
     },
     "metadata": {},
     "output_type": "display_data"
    }
   ],
   "source": [
    "VARselect(train10, lag.max = 13, type = \"none\")"
   ]
  },
  {
   "cell_type": "markdown",
   "metadata": {},
   "source": [
    "Kointegravimo sąryšis"
   ]
  },
  {
   "cell_type": "code",
   "execution_count": 11,
   "metadata": {},
   "outputs": [
    {
     "data": {
      "text/plain": [
       "\n",
       "###################### \n",
       "# Johansen-Procedure # \n",
       "###################### \n",
       "\n",
       "Test type: maximal eigenvalue statistic (lambda max) , with linear trend \n",
       "\n",
       "Eigenvalues (lambda):\n",
       "[1] 0.14064345 0.03705994 0.01459211\n",
       "\n",
       "Values of teststatistic and critical values of test:\n",
       "\n",
       "          test 10pct  5pct  1pct\n",
       "r <= 2 |  2.53  6.50  8.18 11.65\n",
       "r <= 1 |  6.50 12.91 14.90 19.19\n",
       "r = 0  | 26.07 18.90 21.07 25.75\n",
       "\n",
       "Eigenvectors, normalised to first column:\n",
       "(These are the cointegration relations)\n",
       "\n",
       "          unts.l8  gdpts.l8   infts.l8\n",
       "unts.l8  1.000000 1.0000000  1.0000000\n",
       "gdpts.l8 4.923252 0.7624543 -0.4754655\n",
       "infts.l8 0.212737 2.0780259 -4.9845109\n",
       "\n",
       "Weights W:\n",
       "(This is the loading matrix)\n",
       "\n",
       "            unts.l8    gdpts.l8     infts.l8\n",
       "unts.d  -0.03013103 -0.03593611 -0.002884850\n",
       "gdpts.d -0.14138367  0.01409205  0.012739831\n",
       "infts.d  0.07859709 -0.05592881  0.003012187\n"
      ]
     },
     "metadata": {},
     "output_type": "display_data"
    }
   ],
   "source": [
    "H1 <- ca.jo(train10, ecdet=\"none\", K = 8)\n",
    "summary(H1)"
   ]
  },
  {
   "cell_type": "code",
   "execution_count": 12,
   "metadata": {},
   "outputs": [
    {
     "data": {
      "text/plain": [
       "#############\n",
       "###Model VECM \n",
       "#############\n",
       "Full sample size: 180 \tEnd sample size: 172\n",
       "Number of variables: 3 \tNumber of estimated slope parameters 66\n",
       "AIC -445.4621 \tBIC -231.4325 \tSSR 264.1065\n",
       "Cointegrating vector (estimated by 2OLS):\n",
       "   unts     gdpts      infts\n",
       "r1    1 -1.244685 -0.5830744\n",
       "\n",
       "\n",
       "               ECT                 unts -1             gdpts -1           \n",
       "Equation unts  -0.0009(0.0050)     -0.3160(0.0796)***  -0.0282(0.0273)    \n",
       "Equation gdpts -0.0039(0.0159)     0.2193(0.2548)      -0.8317(0.0875)*** \n",
       "Equation infts -0.0037(0.0086)     -0.1220(0.1383)     0.0467(0.0475)     \n",
       "               infts -1            unts -2             gdpts -2          \n",
       "Equation unts  -0.0512(0.0432)     0.0106(0.0839)      -0.0660(0.0345).  \n",
       "Equation gdpts -0.2483(0.1383).    -0.0128(0.2688)     -0.6339(0.1104)***\n",
       "Equation infts -0.6018(0.0750)***  -0.0329(0.1458)     0.0496(0.0599)    \n",
       "               infts -2            unts -3            gdpts -3          \n",
       "Equation unts  -0.0905(0.0530).    0.1441(0.0838).    -0.1106(0.0377)** \n",
       "Equation gdpts -0.1555(0.1697)     0.5298(0.2683).    -0.4305(0.1208)***\n",
       "Equation infts -0.2947(0.0921)**   0.0606(0.1456)     0.0465(0.0656)    \n",
       "               infts -3            unts -4             gdpts -4          \n",
       "Equation unts  -0.0824(0.0557)     -0.0749(0.0838)     -0.1638(0.0383)***\n",
       "Equation gdpts -0.3188(0.1783).    0.3165(0.2685)      -0.4558(0.1226)***\n",
       "Equation infts -0.0570(0.0967)     -0.0428(0.1457)     0.1353(0.0665)*   \n",
       "               infts -4            unts -5             gdpts -5          \n",
       "Equation unts  -0.0789(0.0562)     0.1587(0.0841).     -0.1398(0.0383)***\n",
       "Equation gdpts -0.3878(0.1800)*    0.2918(0.2693)      -0.3247(0.1227)** \n",
       "Equation infts 0.2803(0.0977)**    -0.2216(0.1461)     0.1015(0.0666)    \n",
       "               infts -5            unts -6             gdpts -6          \n",
       "Equation unts  -0.0598(0.0567)     0.0992(0.0831)      -0.0969(0.0353)** \n",
       "Equation gdpts -0.0442(0.1815)     0.1342(0.2661)      -0.2257(0.1131)*  \n",
       "Equation infts -0.0617(0.0985)     -0.0435(0.1444)     0.0736(0.0613)    \n",
       "               infts -6            unts -7            gdpts -7           \n",
       "Equation unts  -0.0333(0.0531)     0.1790(0.0784)*    -0.0817(0.0263)**  \n",
       "Equation gdpts -0.1659(0.1702)     0.1459(0.2512)     -0.0113(0.0843)    \n",
       "Equation infts -0.2060(0.0923)*    0.0331(0.1363)     -0.0040(0.0457)    \n",
       "               infts -7           \n",
       "Equation unts  -0.0052(0.0432)    \n",
       "Equation gdpts -0.0678(0.1382)    \n",
       "Equation infts -0.4609(0.0750)*** "
      ]
     },
     "metadata": {},
     "output_type": "display_data"
    }
   ],
   "source": [
    "Y_VECM <- VECM(train10, lag = 7, r = 1, include = \"none\", LRinclude = \"none\")\n",
    "summary(Y_VECM)"
   ]
  },
  {
   "cell_type": "code",
   "execution_count": 13,
   "metadata": {},
   "outputs": [],
   "source": [
    "H1var=vec2var(H1, r=1)"
   ]
  },
  {
   "cell_type": "code",
   "execution_count": 14,
   "metadata": {},
   "outputs": [
    {
     "data": {
      "text/plain": [
       "\n",
       "\tBreusch-Godfrey LM test\n",
       "\n",
       "data:  Residuals of VAR object H1var\n",
       "Chi-squared = 59.849, df = 45, p-value = 0.06828\n",
       "\n",
       "$serial\n",
       "\n",
       "\tBreusch-Godfrey LM test\n",
       "\n",
       "data:  Residuals of VAR object H1var\n",
       "Chi-squared = 59.849, df = 45, p-value = 0.06828\n",
       "\n"
      ]
     },
     "metadata": {},
     "output_type": "display_data"
    }
   ],
   "source": [
    "serial.test(H1var,type=\"BG\")"
   ]
  },
  {
   "cell_type": "code",
   "execution_count": 15,
   "metadata": {},
   "outputs": [
    {
     "data": {
      "text/html": [
       "-1.47896780021786e-14"
      ],
      "text/latex": [
       "-1.47896780021786e-14"
      ],
      "text/markdown": [
       "-1.47896780021786e-14"
      ],
      "text/plain": [
       "[1] -1.478968e-14"
      ]
     },
     "metadata": {},
     "output_type": "display_data"
    }
   ],
   "source": [
    "mean(residuals(H1var))"
   ]
  },
  {
   "cell_type": "code",
   "execution_count": 16,
   "metadata": {},
   "outputs": [],
   "source": [
    "f <- predict(H1var, n.ahead = nrow(test10))"
   ]
  },
  {
   "cell_type": "code",
   "execution_count": 17,
   "metadata": {},
   "outputs": [
    {
     "data": {
      "image/png": "[encoded data removed]",
      "text/plain": [
       "plot without title"
      ]
     },
     "metadata": {
      "image/png": {
       "height": 360,
       "width": 1200
      },
      "text/plain": {
       "height": 360,
       "width": 1200
      }
     },
     "output_type": "display_data"
    }
   ],
   "source": [
    "autoplot(f)"
   ]
  },
  {
   "cell_type": "code",
   "execution_count": 18,
   "metadata": {},
   "outputs": [
    {
     "data": {
      "image/png": "[encoded data removed]",
      "text/plain": [
       "plot without title"
      ]
     },
     "metadata": {
      "image/png": {
       "height": 360,
       "width": 1200
      },
      "text/plain": {
       "height": 360,
       "width": 1200
      }
     },
     "output_type": "display_data"
    }
   ],
   "source": [
    "plot(irf(H1var, impulse = \"unts\"))"
   ]
  },
  {
   "cell_type": "code",
   "execution_count": 19,
   "metadata": {},
   "outputs": [
    {
     "data": {
      "image/png": "[encoded data removed]",
      "text/plain": [
       "plot without title"
      ]
     },
     "metadata": {
      "image/png": {
       "height": 360,
       "width": 1200
      },
      "text/plain": {
       "height": 360,
       "width": 1200
      }
     },
     "output_type": "display_data"
    }
   ],
   "source": [
    "plot(irf(H1var, impulse = \"infts\"))"
   ]
  }
 ],
 "metadata": {
  "kernelspec": {
   "display_name": "R",
   "language": "R",
   "name": "ir"
  },
  "language_info": {
   "codemirror_mode": "r",
   "file_extension": ".r",
   "mimetype": "text/x-r-source",
   "name": "R",
   "pygments_lexer": "r",
   "version": "4.0.0"
  }
 },
 "nbformat": 4,
 "nbformat_minor": 4
}
