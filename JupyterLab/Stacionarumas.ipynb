{
 "cells": [
  {
   "cell_type": "code",
   "execution_count": 10,
   "metadata": {},
   "outputs": [],
   "source": [
    "options(repr.plot.width = 20)\n",
    "options(repr.plot.height = 6)"
   ]
  },
  {
   "cell_type": "code",
   "execution_count": 11,
   "metadata": {},
   "outputs": [],
   "source": [
    "library(zoo)\n",
    "library(ggplot2)\n",
    "library(dplyr)\n",
    "library(forecast)\n",
    "library(dynlm)\n",
    "library(urca)\n",
    "library(fUnitRoots)\n",
    "library(ggfortify)\n",
    "library(data.table)\n",
    "library(tseries)\n",
    "library(dplyr)\n",
    "library(aTSA)\n",
    "library(lmtest)\n",
    "library(readxl)\n",
    "library(vars)\n",
    "library(tsDyn)\n",
    "library(MTS)"
   ]
  },
  {
   "cell_type": "markdown",
   "metadata": {},
   "source": [
    "Susikeliame duomenis:"
   ]
  },
  {
   "cell_type": "code",
   "execution_count": 14,
   "metadata": {},
   "outputs": [],
   "source": [
    "data <- read.csv(\"Kursinis/duomenys.csv\", header=T)"
   ]
  },
  {
   "cell_type": "code",
   "execution_count": 15,
   "metadata": {},
   "outputs": [],
   "source": [
    "data$TIME <-as.Date(data$TIME, format(\"%Y-%m-%d\"))"
   ]
  },
  {
   "cell_type": "markdown",
   "metadata": {},
   "source": [
    "# STACIONARUMO TIKRINIMAS"
   ]
  },
  {
   "cell_type": "markdown",
   "metadata": {},
   "source": [
    "Iš `data.frame`susikuriame laiko eilučių objektus."
   ]
  },
  {
   "cell_type": "code",
   "execution_count": 16,
   "metadata": {},
   "outputs": [],
   "source": [
    "unts<- ts(data$UN,start=c(1968,1),end=c(2018,4), frequency=4)"
   ]
  },
  {
   "cell_type": "code",
   "execution_count": 17,
   "metadata": {},
   "outputs": [],
   "source": [
    "gdpts<- ts(data$GDP,start=c(1968,1),end=c(2018,4), frequency=4)"
   ]
  },
  {
   "cell_type": "code",
   "execution_count": 18,
   "metadata": {},
   "outputs": [],
   "source": [
    "infts<- ts(data$INF,start=c(1968,1),end=c(2018,4), frequency=4)"
   ]
  },
  {
   "cell_type": "markdown",
   "metadata": {},
   "source": [
    "## NEDARBO SKIRTUMAI"
   ]
  },
  {
   "cell_type": "markdown",
   "metadata": {},
   "source": [
    "Vienetinės šaknies tikrinimas su funkcija `adf.test()`"
   ]
  },
  {
   "cell_type": "code",
   "execution_count": 19,
   "metadata": {},
   "outputs": [
    {
     "name": "stdout",
     "output_type": "stream",
     "text": [
      "Augmented Dickey-Fuller Test \n",
      "alternative: stationary \n",
      " \n",
      "Type 1: no drift no trend \n",
      "     lag    ADF p.value\n",
      "[1,]   0 -0.386   0.533\n",
      "[2,]   1 -0.191   0.589\n",
      "[3,]   2 -0.197   0.587\n",
      "[4,]   3 -0.284   0.562\n",
      "[5,]   4 -0.320   0.552\n",
      "Type 2: with drift no trend \n",
      "     lag   ADF p.value\n",
      "[1,]   0 -1.31   0.587\n",
      "[2,]   1 -1.28   0.598\n",
      "[3,]   2 -1.42   0.548\n",
      "[4,]   3 -1.68   0.451\n",
      "[5,]   4 -1.29   0.595\n",
      "Type 3: with drift and trend \n",
      "     lag    ADF p.value\n",
      "[1,]   0 -0.114    0.99\n",
      "[2,]   1  0.851    0.99\n",
      "[3,]   2  0.763    0.99\n",
      "[4,]   3  0.207    0.99\n",
      "[5,]   4  0.463    0.99\n",
      "---- \n",
      "Note: in fact, p.value = 0.01 means p.value <= 0.01 \n"
     ]
    }
   ],
   "source": [
    "adf.test(unts)"
   ]
  },
  {
   "cell_type": "markdown",
   "metadata": {},
   "source": [
    "Kadangi p-reikšmės yra daugiau už 0.05 tai $ H_0 $ neatmetame. Eilutė turi vienetinę šaknį."
   ]
  },
  {
   "cell_type": "markdown",
   "metadata": {},
   "source": [
    "## BVP SKIRTUMAI"
   ]
  },
  {
   "cell_type": "code",
   "execution_count": 21,
   "metadata": {},
   "outputs": [
    {
     "name": "stdout",
     "output_type": "stream",
     "text": [
      "Augmented Dickey-Fuller Test \n",
      "alternative: stationary \n",
      " \n",
      "Type 1: no drift no trend \n",
      "     lag   ADF p.value\n",
      "[1,]   0 -8.67    0.01\n",
      "[2,]   1 -5.40    0.01\n",
      "[3,]   2 -4.14    0.01\n",
      "[4,]   3 -4.45    0.01\n",
      "[5,]   4 -3.70    0.01\n",
      "Type 2: with drift no trend \n",
      "     lag    ADF p.value\n",
      "[1,]   0 -10.75    0.01\n",
      "[2,]   1  -6.78    0.01\n",
      "[3,]   2  -5.22    0.01\n",
      "[4,]   3  -5.56    0.01\n",
      "[5,]   4  -4.74    0.01\n",
      "Type 3: with drift and trend \n",
      "     lag    ADF p.value\n",
      "[1,]   0 -12.71    0.01\n",
      "[2,]   1  -8.21    0.01\n",
      "[3,]   2  -6.44    0.01\n",
      "[4,]   3  -6.74    0.01\n",
      "[5,]   4  -6.04    0.01\n",
      "---- \n",
      "Note: in fact, p.value = 0.01 means p.value <= 0.01 \n"
     ]
    }
   ],
   "source": [
    "adf.test(gdpts)"
   ]
  },
  {
   "cell_type": "markdown",
   "metadata": {},
   "source": [
    "BVP skirtumai vienetinės šaknies neturi."
   ]
  },
  {
   "cell_type": "markdown",
   "metadata": {},
   "source": [
    "Laiko eilutė stacionari. "
   ]
  },
  {
   "cell_type": "markdown",
   "metadata": {},
   "source": [
    "## Infliacija"
   ]
  },
  {
   "cell_type": "code",
   "execution_count": 23,
   "metadata": {},
   "outputs": [
    {
     "name": "stdout",
     "output_type": "stream",
     "text": [
      "Augmented Dickey-Fuller Test \n",
      "alternative: stationary \n",
      " \n",
      "Type 1: no drift no trend \n",
      "     lag   ADF p.value\n",
      "[1,]   0 -6.95  0.0100\n",
      "[2,]   1 -2.79  0.0100\n",
      "[3,]   2 -2.61  0.0100\n",
      "[4,]   3 -1.69  0.0898\n",
      "[5,]   4 -2.05  0.0416\n",
      "Type 2: with drift no trend \n",
      "     lag   ADF p.value\n",
      "[1,]   0 -8.19  0.0100\n",
      "[2,]   1 -3.23  0.0210\n",
      "[3,]   2 -3.04  0.0352\n",
      "[4,]   3 -1.79  0.4102\n",
      "[5,]   4 -2.35  0.1905\n",
      "Type 3: with drift and trend \n",
      "     lag    ADF p.value\n",
      "[1,]   0 -11.42  0.0100\n",
      "[2,]   1  -4.65  0.0100\n",
      "[3,]   2  -4.56  0.0100\n",
      "[4,]   3  -2.62  0.3152\n",
      "[5,]   4  -3.71  0.0247\n",
      "---- \n",
      "Note: in fact, p.value = 0.01 means p.value <= 0.01 \n"
     ]
    }
   ],
   "source": [
    "adf.test(infts)"
   ]
  },
  {
   "cell_type": "markdown",
   "metadata": {},
   "source": [
    "dėl sezoniškumo rezultatas nelabai aiškus"
   ]
  },
  {
   "cell_type": "code",
   "execution_count": 26,
   "metadata": {},
   "outputs": [],
   "source": [
    "sdiff <- diff(infts, lag = 4)"
   ]
  },
  {
   "cell_type": "code",
   "execution_count": 27,
   "metadata": {},
   "outputs": [
    {
     "name": "stdout",
     "output_type": "stream",
     "text": [
      "Augmented Dickey-Fuller Test \n",
      "alternative: stationary \n",
      " \n",
      "Type 1: no drift no trend \n",
      "     lag   ADF p.value\n",
      "[1,]   0 -9.73    0.01\n",
      "[2,]   1 -6.64    0.01\n",
      "[3,]   2 -5.30    0.01\n",
      "[4,]   3 -9.31    0.01\n",
      "[5,]   4 -7.93    0.01\n",
      "Type 2: with drift no trend \n",
      "     lag   ADF p.value\n",
      "[1,]   0 -9.71    0.01\n",
      "[2,]   1 -6.63    0.01\n",
      "[3,]   2 -5.30    0.01\n",
      "[4,]   3 -9.30    0.01\n",
      "[5,]   4 -7.94    0.01\n",
      "Type 3: with drift and trend \n",
      "     lag   ADF p.value\n",
      "[1,]   0 -9.69    0.01\n",
      "[2,]   1 -6.61    0.01\n",
      "[3,]   2 -5.28    0.01\n",
      "[4,]   3 -9.28    0.01\n",
      "[5,]   4 -7.92    0.01\n",
      "---- \n",
      "Note: in fact, p.value = 0.01 means p.value <= 0.01 \n"
     ]
    }
   ],
   "source": [
    "adf.test(sdiff)"
   ]
  },
  {
   "cell_type": "code",
   "execution_count": 28,
   "metadata": {},
   "outputs": [],
   "source": [
    "dinfza <- ur.za(sdiff,model=\"trend\")"
   ]
  },
  {
   "cell_type": "code",
   "execution_count": 29,
   "metadata": {},
   "outputs": [
    {
     "data": {
      "text/plain": [
       "\n",
       "################################ \n",
       "# Zivot-Andrews Unit Root Test # \n",
       "################################ \n",
       "\n",
       "\n",
       "Call:\n",
       "lm(formula = testmat)\n",
       "\n",
       "Residuals:\n",
       "    Min      1Q  Median      3Q     Max \n",
       "-5.6072 -0.2126  0.0321  0.2219  4.0710 \n",
       "\n",
       "Coefficients:\n",
       "            Estimate Std. Error t value Pr(>|t|)    \n",
       "(Intercept)  0.57551    0.28370   2.029   0.0439 *  \n",
       "y.l1         0.33148    0.06681   4.961 1.52e-06 ***\n",
       "trend       -0.02647    0.01208  -2.191   0.0296 *  \n",
       "dt           0.02759    0.01261   2.187   0.0299 *  \n",
       "---\n",
       "Signif. codes:  0 ‘***’ 0.001 ‘**’ 0.01 ‘*’ 0.05 ‘.’ 0.1 ‘ ’ 1\n",
       "\n",
       "Residual standard error: 0.753 on 195 degrees of freedom\n",
       "  (1 observation deleted due to missingness)\n",
       "Multiple R-squared:  0.1481,\tAdjusted R-squared:  0.135 \n",
       "F-statistic:  11.3 on 3 and 195 DF,  p-value: 7.228e-07\n",
       "\n",
       "\n",
       "Teststatistic: -10.006 \n",
       "Critical values: 0.01= -4.93 0.05= -4.42 0.1= -4.11 \n",
       "\n",
       "Potential break point at position: 27 \n"
      ]
     },
     "metadata": {},
     "output_type": "display_data"
    }
   ],
   "source": [
    "summary(dinfza)"
   ]
  },
  {
   "cell_type": "markdown",
   "metadata": {},
   "source": [
    "Infliacijos skirtumai yra staionarūs."
   ]
  }
 ],
 "metadata": {
  "kernelspec": {
   "display_name": "R",
   "language": "R",
   "name": "ir"
  },
  "language_info": {
   "codemirror_mode": "r",
   "file_extension": ".r",
   "mimetype": "text/x-r-source",
   "name": "R",
   "pygments_lexer": "r",
   "version": "4.0.0"
  }
 },
 "nbformat": 4,
 "nbformat_minor": 4
}
